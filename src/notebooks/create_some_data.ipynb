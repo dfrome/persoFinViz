{
 "cells": [
  {
   "cell_type": "markdown",
   "metadata": {},
   "source": [
    "This initiates some data.\n",
    "Useful in case you have no data yet and want to create some dummy one to check :  \n",
    "* how visualizations work  \n",
    "* what is the expected file format  \n",
    "***"
   ]
  },
  {
   "cell_type": "code",
   "execution_count": 1,
   "metadata": {},
   "outputs": [],
   "source": [
    "# loads path to your input files : base_processed, base_raw, base_models...\n",
    "%run init_notebook.py"
   ]
  },
  {
   "cell_type": "code",
   "execution_count": 2,
   "metadata": {},
   "outputs": [
    {
     "name": "stdout",
     "output_type": "stream",
     "text": [
      "  host pocket     type geography  amount\n",
      "1  Brs     AV      act        US    1000\n",
      "2  Brs     AV      act     India      80\n",
      "3  Brs    liv      2.5       n/a     500\n",
      "4  Brs    liv  2.5*0.7       n/a     900\n",
      "5  Frt    PEA      act     world    2900\n",
      "6  Frt    CTO      act        US     900\n",
      "7  Lxa     AV      scp       n/a     700\n"
     ]
    }
   ],
   "source": [
    "# Define the list of rows\n",
    "rows = [\n",
    "    [\"Brs\", \"AV\", \"act\", \"US\", 1000],\n",
    "    [\"Brs\", \"AV\", \"act\", \"India\", 80],\n",
    "    [\"Brs\", \"liv\", \"2.5\", \"n/a\", 500],\n",
    "    [\"Brs\", \"liv\", \"2.5*0.7\", \"n/a\", 900],\n",
    "    [\"Frt\", \"PEA\", \"act\", \"world\", 2900],\n",
    "    [\"Frt\", \"CTO\", \"act\", \"US\", 900],\n",
    "    [\"Lxa\", \"AV\", \"scp\", \"n/a\", 700],\n",
    "\n",
    "\n",
    "\n",
    "]\n",
    "\n",
    "# Automatically create the dictionary with line numbers as keys\n",
    "data = {i + 1: row for i, row in enumerate(rows)}\n",
    "\n",
    "# If you want to convert this dictionary to a DataFrame\n",
    "import pandas as pd\n",
    "columns = [\"host\", \"pocket\", \"type\", \"geography\", \"amount\"]\n",
    "df = pd.DataFrame.from_dict(data, orient=\"index\", columns=columns)\n",
    "\n",
    "# Display the DataFrame\n",
    "print(df)\n",
    "\n"
   ]
  },
  {
   "cell_type": "code",
   "execution_count": 3,
   "metadata": {},
   "outputs": [
    {
     "name": "stdout",
     "output_type": "stream",
     "text": [
      "Dummy data has been saved to base_raw / 'dummy_fin.csv'\n"
     ]
    }
   ],
   "source": [
    "# Save the DataFrame to a CSV file\n",
    "df.to_csv(base_raw+'dummy_fin_data.csv', index=False)\n",
    "\n",
    "print(\"Dummy data has been saved to base_raw / 'dummy_fin.csv'\")"
   ]
  }
 ],
 "metadata": {
  "kernelspec": {
   "display_name": "persoFinViz",
   "language": "python",
   "name": "python3"
  },
  "language_info": {
   "codemirror_mode": {
    "name": "ipython",
    "version": 3
   },
   "file_extension": ".py",
   "mimetype": "text/x-python",
   "name": "python",
   "nbconvert_exporter": "python",
   "pygments_lexer": "ipython3",
   "version": "3.12.9"
  }
 },
 "nbformat": 4,
 "nbformat_minor": 2
}
